{
 "cells": [
  {
   "cell_type": "markdown",
   "metadata": {},
   "source": [
    "# Measuring the Certainty of the k-Nearest Neighbors Algorithm developed in Python for Visualizing the 3D Stratigraphic Architecture of the Llobregat River Delta"
   ]
  },
  {
   "cell_type": "code",
   "execution_count": 1,
   "metadata": {},
   "outputs": [],
   "source": [
    "DATADIR='data/' # Directory with the data\n",
    "FIGURESDIR='figures/' # Figures produced"
   ]
  },
  {
   "cell_type": "code",
   "execution_count": 3,
   "metadata": {},
   "outputs": [],
   "source": [
    "import pandas as pd\n",
    "import numpy as np\n",
    "import matplotlib.pyplot as plt\n",
    "import matplotlib as mpl\n",
    "\n",
    "import os\n",
    "\n",
    "import shapely.geometry as geometry\n",
    "\n",
    "from sklearn.neighbors import NearestNeighbors\n",
    "from sklearn.neighbors._base import _get_weights"
   ]
  },
  {
   "cell_type": "code",
   "execution_count": 4,
   "metadata": {},
   "outputs": [],
   "source": [
    "Heights=list(range(0,-101,-5)) # Heights where the certainty maps will be obtained\n",
    "\n",
    "FRAME=500 # Plot frame"
   ]
  },
  {
   "cell_type": "code",
   "execution_count": 5,
   "metadata": {},
   "outputs": [],
   "source": [
    "knn_grav = NearestNeighbors(n_neighbors=1)\n",
    "knn_sand = NearestNeighbors(n_neighbors=1)\n",
    "knn_clay = NearestNeighbors(n_neighbors=1)\n",
    "knn_base = NearestNeighbors(n_neighbors=4)\n",
    "\n",
    "def certainty(X):\n",
    "    neight_grav=knn_grav.kneighbors(X)[0].reshape((len(X)))\n",
    "    neight_sand=knn_sand.kneighbors(X)[0].reshape((len(X)))\n",
    "    neight_clay=knn_clay.kneighbors(X)[0].reshape((len(X)))\n",
    "    \n",
    "    m = min(knn_base.n_samples_fit_, 4)\n",
    "    neight_base=knn_base.kneighbors(X, m)[0].reshape((len(X),m))\n",
    "        \n",
    "    cert=np.zeros(len(X))    \n",
    "        \n",
    "    for i in range(len(X)):\n",
    "        bas=sorted(list(neight_sue[i]))\n",
    "        no_bas=[neight_grav[i],neight_sand[i],neight_clay[i]]\n",
    "        m_no_bas=min(no_bas)\n",
    "        w=_get_weights(np.array([no_bas+[bas[0]]]), 'distance')[0]\n",
    "        cert[i]=np.max(w)/np.sum(w)\n",
    "        \n",
    "        s=1\n",
    "        while s<m and bas[s]<m_no_bas:\n",
    "            w=_get_weights(np.array([no_bas+[bas[s]]]), 'distance')[0]\n",
    "            cert[i]=cert[i]+(1-cert[i])*(w[3]-max(w[:3]))/np.sum(w)\n",
    "            s+=1\n",
    "        \n",
    "    return 100*cert"
   ]
  },
  {
   "cell_type": "code",
   "execution_count": 6,
   "metadata": {},
   "outputs": [],
   "source": [
    "cmap = plt.cm.rainbow\n",
    "cmaplist = [cmap(i) for i in range(cmap.N)]\n",
    "cmap = mpl.colors.LinearSegmentedColormap.from_list('Custom cmap', cmaplist, cmap.N)\n",
    "bounds=np.array([25, 30, 35, 40, 50, 60, 70, 80, 90, 95, 100])\n",
    "norm=mpl.colors.BoundaryNorm(bounds, cmap.N)"
   ]
  },
  {
   "cell_type": "code",
   "execution_count": 6,
   "metadata": {
    "scrolled": false
   },
   "outputs": [
    {
     "name": "stdout",
     "output_type": "stream",
     "text": [
      "COTA: 0\n",
      "COTA: -5\n",
      "COTA: -10\n",
      "COTA: -15\n",
      "COTA: -20\n",
      "COTA: -25\n",
      "COTA: -30\n",
      "COTA: -40\n",
      "COTA: -50\n",
      "COTA: -60\n",
      "COTA: -80\n",
      "COTA: -100\n"
     ]
    },
    {
     "data": {
      "text/plain": [
       "<Figure size 432x288 with 0 Axes>"
      ]
     },
     "metadata": {},
     "output_type": "display_data"
    }
   ],
   "source": [
    "data=pd.read_excel(DATADIR+'hsd new basements.xls')\n",
    "data=data.drop(columns=['Codi'])\n",
    "\n",
    "ax=[data.UTM_X.min()-FRAME,data.UTM_X.max()+FRAME,data.UTM_Y.min()-FRAME,data.UTM_Y.max()+FRAME]\n",
    "minx_rounded = 1000 * round(ax[0]/1000)\n",
    "maxx_rounded = 1000 * round(ax[1]/1000)\n",
    "\n",
    "xx, yy = np.meshgrid(np.linspace(ax[0],ax[1],300),np.linspace(ax[2],ax[3],300))\n",
    "C=np.zeros(xx.shape,dtype = float)\n",
    "\n",
    "contorno=pd.read_csv('cont2c7.csv')\n",
    "contorno=contorno.drop(columns=['dentro', 'hoja', 'Cota'])\n",
    "poligono=geometry.Polygon(zip(contorno['UTMX'],contorno['UTMY']))\n",
    "#poligono = alpha_shape(list(zip(X,Y)), alpha=ALPHA, default_distance=DEFAULT_DISTANCE)[0].buffer(BUFFER)  \n",
    "\n",
    "outside=[] # Puntos exteriores al polígono\n",
    "for i in range(xx.shape[0]):\n",
    "    for j in range(xx.shape[1]):\n",
    "        if poligono.distance(geometry.Point(xx[i,j],yy[i,j]))>1:\n",
    "            outside.append((i,j))\n",
    "            \n",
    "xpol,ypol = poligono.exterior.xy\n",
    "\n",
    "for COTA in COTAs:\n",
    "    print('COTA:',COTA)\n",
    "\n",
    "    df=datos[datos.Cota==COTA] # Me quedo con las de cierta Cota  \n",
    "        \n",
    "    gravillas=df[df.Clase=='gravillas y gravas']\n",
    "    arenas=df[df.Clase=='arenas']\n",
    "    arcillas=df[df.Clase=='arcillas y limos']\n",
    "    suelos=df[df.Valor=='S']\n",
    "    \n",
    "    knn_grav.fit(list(zip(gravillas['UTM_X'],gravillas['UTM_Y'])))\n",
    "    knn_are.fit(list(zip(arenas['UTM_X'],arenas['UTM_Y'])))\n",
    "    knn_arc.fit(list(zip(arcillas['UTM_X'],arcillas['UTM_Y'])))\n",
    "    knn_sue.fit(list(zip(suelos['UTM_X'],suelos['UTM_Y'])))\n",
    "        \n",
    "    for i in range(xx.shape[0]):\n",
    "        d=list(zip(xx[i],yy[i]))\n",
    "        C[i]=reliability(d)\n",
    "\n",
    "    for (i,j) in outside:\n",
    "        C[i,j]=np.nan\n",
    "\n",
    "    plt.imshow(C, vmin = 25, vmax = 100, cmap=cmap, origin='lower', norm=norm, alpha=0.6,\n",
    "           extent=[xx.min(), xx.max(), yy.min(), yy.max()])\n",
    "    \n",
    "    plt.colorbar(spacing='proportional').set_label(' %', rotation=0)\n",
    "    \n",
    "    plt.scatter(gravillas['UTM_X'], gravillas['UTM_Y'], c='blue', s=1, alpha=0.9, label='gravillas')\n",
    "    plt.scatter(arenas['UTM_X'], arenas['UTM_Y'], c='orange', s=1, alpha=0.8, label='arenas')\n",
    "    plt.scatter(arcillas['UTM_X'], arcillas['UTM_Y'], c='black', s=1, alpha=0.7, label='arcillas')\n",
    "    plt.scatter(suelos['UTM_X'], suelos['UTM_Y'], c='brown', s=1, alpha=0.7, label='suelos')\n",
    "\n",
    "    plt.plot(xpol, ypol, alpha=0.6, color='red', linewidth=1.5, linestyle='dashed')    \n",
    "\n",
    "    plt.xlabel('UTM_X')\n",
    "    plt.ylabel('UTM_Y')\n",
    "\n",
    "    plt.xticks(np.arange(minx_rounded, maxx_rounded, step=3000))\n",
    "    \n",
    "    plt.title(\"Height \"+str(COTA)+' m')\n",
    "    plt.axis(ax)\n",
    "\n",
    "    filename='cota'+str(COTA)+'.png'\n",
    "    \n",
    "    filename='reliability/'+filename\n",
    "    os.makedirs(os.path.dirname(filename), exist_ok=True)\n",
    "    plt.savefig(filename, transparent=False, dpi=164, bbox_inches='tight')\n",
    "\n",
    "    plt.clf()\n",
    "    #plt.show()"
   ]
  }
 ],
 "metadata": {
  "kernelspec": {
   "display_name": "Python 3",
   "language": "python",
   "name": "python3"
  },
  "language_info": {
   "codemirror_mode": {
    "name": "ipython",
    "version": 3
   },
   "file_extension": ".py",
   "mimetype": "text/x-python",
   "name": "python",
   "nbconvert_exporter": "python",
   "pygments_lexer": "ipython3",
   "version": "3.8.10"
  }
 },
 "nbformat": 4,
 "nbformat_minor": 4
}
