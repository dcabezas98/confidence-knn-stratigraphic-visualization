{
 "cells": [
  {
   "cell_type": "markdown",
   "metadata": {},
   "source": [
    "# Measuring the Confidence of the k-Nearest Neighbors Algorithm developed in Python for Visualizing the 3D Stratigraphic Architecture of the Llobregat River Delta"
   ]
  },
  {
   "cell_type": "markdown",
   "metadata": {},
   "source": [
    "In this notebook, we draw maps that measure, in some way, how solid are the predictions used for the horizontal sections in https://www.mdpi.com/2077-1312/10/7/986. For this purpose we take a grid of points in the Llobregat River Delta and we assign to each point a confidence metric satisfying some desirable properties."
   ]
  },
  {
   "cell_type": "code",
   "execution_count": 1,
   "metadata": {},
   "outputs": [],
   "source": [
    "DATADIR='data/' # Directory with the data\n",
    "FIGURESDIR='figures/' # Figures produced"
   ]
  },
  {
   "cell_type": "code",
   "execution_count": 2,
   "metadata": {},
   "outputs": [],
   "source": [
    "import pandas as pd\n",
    "import numpy as np\n",
    "import matplotlib.pyplot as plt\n",
    "import matplotlib as mpl\n",
    "\n",
    "import os\n",
    "\n",
    "import shapely.geometry as geometry\n",
    "\n",
    "from sklearn.neighbors import NearestNeighbors\n",
    "from sklearn.neighbors._base import _get_weights"
   ]
  },
  {
   "cell_type": "code",
   "execution_count": 3,
   "metadata": {},
   "outputs": [],
   "source": [
    "Heights=list(range(0,-101,-5)) # Heights where the confidence maps will be obtained\n",
    "\n",
    "FRAME=500 # Plot frame"
   ]
  },
  {
   "cell_type": "markdown",
   "metadata": {},
   "source": [
    "The metric we propose uses the weight of the nearest neighbor and divies it by the sum of the weights of the four nearest neighbors such that each one belongs to a different class, this includes the nearest neighbor used to infer the granulometry, so the confidence degree lies always in the interval $[0.25,1]$.\n",
    "\n",
    "A bonus of confidence is applied when there are several nearest neighbors of the class basement closer than any other non-basement neighbor."
   ]
  },
  {
   "cell_type": "code",
   "execution_count": 4,
   "metadata": {},
   "outputs": [],
   "source": [
    "knn_grav = NearestNeighbors(n_neighbors=1)\n",
    "knn_sand = NearestNeighbors(n_neighbors=1)\n",
    "knn_clay = NearestNeighbors(n_neighbors=1)\n",
    "knn_base = NearestNeighbors(n_neighbors=4)\n",
    "\n",
    "def confidence(X):\n",
    "    neight_grav=knn_grav.kneighbors(X)[0].reshape((len(X)))\n",
    "    neight_sand=knn_sand.kneighbors(X)[0].reshape((len(X)))\n",
    "    neight_clay=knn_clay.kneighbors(X)[0].reshape((len(X)))\n",
    "    \n",
    "    m = min(knn_base.n_samples_fit_, 4)\n",
    "    neight_base=knn_base.kneighbors(X, m)[0].reshape((len(X),m))\n",
    "        \n",
    "    cert=np.zeros(len(X))    \n",
    "        \n",
    "    for i in range(len(X)):\n",
    "        bas=sorted(list(neight_base[i]))\n",
    "        no_bas=[neight_grav[i],neight_sand[i],neight_clay[i]]\n",
    "        m_no_bas=min(no_bas)\n",
    "        w=_get_weights(np.array([no_bas+[bas[0]]]), 'distance')[0]\n",
    "        cert[i]=np.max(w)/np.sum(w)\n",
    "        \n",
    "        # Bonus of confidence when several basement points are closer than the nearest non-basement neighbor.\n",
    "        s=1\n",
    "        while s<m and bas[s]<m_no_bas:\n",
    "            w=_get_weights(np.array([no_bas+[bas[s]]]), 'distance')[0]\n",
    "            cert[i]=cert[i]+(1-cert[i])*(w[3]-max(w[:3]))/np.sum(w)\n",
    "            s+=1\n",
    "        \n",
    "    return 100*cert"
   ]
  },
  {
   "cell_type": "markdown",
   "metadata": {},
   "source": [
    "Although the confidence function is continuous, we discretize it into several intervals."
   ]
  },
  {
   "cell_type": "code",
   "execution_count": 5,
   "metadata": {},
   "outputs": [],
   "source": [
    "cmap = plt.cm.rainbow\n",
    "cmaplist = [cmap(i) for i in range(cmap.N)]\n",
    "cmap = mpl.colors.LinearSegmentedColormap.from_list('Custom cmap', cmaplist, cmap.N)\n",
    "bounds=np.array([25, 30, 35, 40, 50, 60, 70, 80, 90, 95, 100])\n",
    "norm=mpl.colors.BoundaryNorm(bounds, cmap.N)"
   ]
  },
  {
   "cell_type": "markdown",
   "metadata": {},
   "source": [
    "As in the horizontal sections, we create a grid over the delta. Then, for each point in the grid, we estimate the certainty of the knn prediction with the previous function. Finally, we plot only the points inside the delta contour."
   ]
  },
  {
   "cell_type": "code",
   "execution_count": 6,
   "metadata": {
    "scrolled": false
   },
   "outputs": [
    {
     "data": {
      "text/plain": [
       "<Figure size 432x288 with 0 Axes>"
      ]
     },
     "metadata": {},
     "output_type": "display_data"
    }
   ],
   "source": [
    "data=pd.read_excel(DATADIR+'hsd new basements.xls')\n",
    "data=data.drop(columns=['Codi'])\n",
    "\n",
    "ax=[data.UTM_X.min()-FRAME,data.UTM_X.max()+FRAME,data.UTM_Y.min()-FRAME,data.UTM_Y.max()+FRAME]\n",
    "minx_rounded = 1000 * round(ax[0]/1000)\n",
    "maxx_rounded = 1000 * round(ax[1]/1000)\n",
    "\n",
    "xx, yy = np.meshgrid(np.linspace(ax[0],ax[1],300),np.linspace(ax[2],ax[3],300))\n",
    "C=np.zeros(xx.shape,dtype = float)\n",
    "\n",
    "contorno=pd.read_csv(DATADIR+'deltacontour.csv')\n",
    "contorno=contorno.drop(columns=['Cota'])\n",
    "poligono=geometry.Polygon(zip(contorno['UTM_X'],contorno['UTM_Y']))\n",
    "\n",
    "outside=[] # Points outside the contour\n",
    "for i in range(xx.shape[0]):\n",
    "    for j in range(xx.shape[1]):\n",
    "        if poligono.distance(geometry.Point(xx[i,j],yy[i,j]))>1:\n",
    "            outside.append((i,j))\n",
    "            \n",
    "xpol,ypol = poligono.exterior.xy\n",
    "\n",
    "for H in Heights:\n",
    "\n",
    "    df=data[data.Cota==H]  \n",
    "        \n",
    "    gravels=df[df.Clase=='gravillas y gravas']\n",
    "    sands=df[df.Clase=='arenas']\n",
    "    clays=df[df.Clase=='arcillas y limos']\n",
    "    basements=df[df.Valor=='S']\n",
    "    \n",
    "    knn_grav.fit(list(zip(gravels['UTM_X'],gravels['UTM_Y'])))\n",
    "    knn_sand.fit(list(zip(sands['UTM_X'],sands['UTM_Y'])))\n",
    "    knn_clay.fit(list(zip(clays['UTM_X'],clays['UTM_Y'])))\n",
    "    knn_base.fit(list(zip(basements['UTM_X'],basements['UTM_Y'])))\n",
    "        \n",
    "    for i in range(xx.shape[0]):\n",
    "        d=list(zip(xx[i],yy[i]))\n",
    "        C[i]=confidence(d)\n",
    "\n",
    "    for (i,j) in outside:\n",
    "        C[i,j]=np.nan\n",
    "\n",
    "    plt.imshow(C, vmin = 25, vmax = 100, cmap=cmap, origin='lower', norm=norm, alpha=0.6,\n",
    "           extent=[xx.min(), xx.max(), yy.min(), yy.max()])\n",
    "    \n",
    "    plt.colorbar(spacing='proportional').set_label(' %', rotation=0)\n",
    "    \n",
    "    plt.scatter(gravels['UTM_X'], gravels['UTM_Y'], c='blue', s=1, alpha=0.9, label='gravels')\n",
    "    plt.scatter(sands['UTM_X'], sands['UTM_Y'], c='orange', s=1, alpha=0.8, label='sands')\n",
    "    plt.scatter(clays['UTM_X'], clays['UTM_Y'], c='black', s=1, alpha=0.7, label='clays')\n",
    "    plt.scatter(basements['UTM_X'], basements['UTM_Y'], c='brown', s=1, alpha=0.7, label='basements')\n",
    "\n",
    "    plt.plot(xpol, ypol, alpha=0.6, color='black', linewidth=1.5)    \n",
    "\n",
    "    plt.xlabel('UTM_X')\n",
    "    plt.ylabel('UTM_Y')\n",
    "\n",
    "    plt.xticks(np.arange(minx_rounded, maxx_rounded, step=3000))\n",
    "    \n",
    "    plt.title(\"Height \"+str(H)+' m')\n",
    "    plt.axis(ax)\n",
    "\n",
    "    filename='height'+str(H)+'.png'\n",
    "    \n",
    "    filename=FIGURESDIR+filename\n",
    "    os.makedirs(os.path.dirname(filename), exist_ok=True)\n",
    "    plt.savefig(filename, transparent=False, dpi=164, bbox_inches='tight')\n",
    "\n",
    "    plt.clf()\n",
    "    #plt.show()"
   ]
  }
 ],
 "metadata": {
  "kernelspec": {
   "display_name": "Python 3",
   "language": "python",
   "name": "python3"
  },
  "language_info": {
   "codemirror_mode": {
    "name": "ipython",
    "version": 3
   },
   "file_extension": ".py",
   "mimetype": "text/x-python",
   "name": "python",
   "nbconvert_exporter": "python",
   "pygments_lexer": "ipython3",
   "version": "3.8.10"
  }
 },
 "nbformat": 4,
 "nbformat_minor": 4
}
